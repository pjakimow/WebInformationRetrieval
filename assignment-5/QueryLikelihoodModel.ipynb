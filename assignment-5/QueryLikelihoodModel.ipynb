{
 "cells": [
  {
   "cell_type": "markdown",
   "metadata": {},
   "source": [
    "# Query Likelihood Model"
   ]
  },
  {
   "cell_type": "markdown",
   "metadata": {},
   "source": [
    "You are provided with a corpus and a query:"
   ]
  },
  {
   "cell_type": "code",
   "execution_count": 1,
   "metadata": {},
   "outputs": [],
   "source": [
    "document0 = 'click go the shears boys click click click'\n",
    "document1 = 'click click'\n",
    "document2 = 'metal here'\n",
    "document3 = 'metal shears click here'\n",
    "corpus = [document0, document1, document2, document3]\n",
    "\n",
    "query = 'click shears'"
   ]
  },
  {
   "cell_type": "markdown",
   "metadata": {},
   "source": [
    "## Calculate the probabilities $𝑃_{𝑀_𝑑}(𝑡)$ and $𝑃_{𝑀_𝑐}(𝑡)$ for all terms and documents"
   ]
  },
  {
   "cell_type": "code",
   "execution_count": 2,
   "metadata": {},
   "outputs": [],
   "source": [
    "def get_unique_words(corpus):\n",
    "    words = []\n",
    "    for doc in corpus:\n",
    "        words += doc.split()\n",
    "        \n",
    "    return list(set(words))"
   ]
  },
  {
   "cell_type": "code",
   "execution_count": 3,
   "metadata": {},
   "outputs": [
    {
     "data": {
      "text/plain": [
       "['here', 'go', 'shears', 'boys', 'the', 'click', 'metal']"
      ]
     },
     "execution_count": 3,
     "metadata": {},
     "output_type": "execute_result"
    }
   ],
   "source": [
    "unique_words = get_unique_words(corpus)\n",
    "unique_words"
   ]
  },
  {
   "cell_type": "code",
   "execution_count": 4,
   "metadata": {},
   "outputs": [],
   "source": [
    "def term_probability_for_document(term, document):\n",
    "    \"\"\" \n",
    "        The probability of term occurring in document.\n",
    "        \n",
    "        The number of occurences of given term in given document \n",
    "        divided by total number of terms in this document.\n",
    "    \"\"\"\n",
    "    terms_list = document.split()\n",
    "    \n",
    "    return terms_list.count(term)/len(terms_list)"
   ]
  },
  {
   "cell_type": "code",
   "execution_count": 5,
   "metadata": {},
   "outputs": [
    {
     "name": "stdout",
     "output_type": "stream",
     "text": [
      "P( here | D 1 ):  0.0\n",
      "P( here | D 2 ):  0.0\n",
      "P( here | D 3 ):  0.5\n",
      "P( here | D 4 ):  0.25\n",
      "\n",
      "\n",
      "P( go | D 1 ):  0.125\n",
      "P( go | D 2 ):  0.0\n",
      "P( go | D 3 ):  0.0\n",
      "P( go | D 4 ):  0.0\n",
      "\n",
      "\n",
      "P( shears | D 1 ):  0.125\n",
      "P( shears | D 2 ):  0.0\n",
      "P( shears | D 3 ):  0.0\n",
      "P( shears | D 4 ):  0.25\n",
      "\n",
      "\n",
      "P( boys | D 1 ):  0.125\n",
      "P( boys | D 2 ):  0.0\n",
      "P( boys | D 3 ):  0.0\n",
      "P( boys | D 4 ):  0.0\n",
      "\n",
      "\n",
      "P( the | D 1 ):  0.125\n",
      "P( the | D 2 ):  0.0\n",
      "P( the | D 3 ):  0.0\n",
      "P( the | D 4 ):  0.0\n",
      "\n",
      "\n",
      "P( click | D 1 ):  0.5\n",
      "P( click | D 2 ):  1.0\n",
      "P( click | D 3 ):  0.0\n",
      "P( click | D 4 ):  0.25\n",
      "\n",
      "\n",
      "P( metal | D 1 ):  0.0\n",
      "P( metal | D 2 ):  0.0\n",
      "P( metal | D 3 ):  0.5\n",
      "P( metal | D 4 ):  0.25\n",
      "\n",
      "\n"
     ]
    }
   ],
   "source": [
    "for word in unique_words:\n",
    "    for i in range(len(corpus)):\n",
    "        print('P(',word,'| D',i+1,'): ', term_probability_for_document(word, corpus[i]))\n",
    "    print('\\n')"
   ]
  },
  {
   "cell_type": "code",
   "execution_count": null,
   "metadata": {},
   "outputs": [
    {
     "name": "stdout",
     "output_type": "stream",
     "text": [
      "P( here | D 1 ):  0.0\n",
      "P( go | D 1 ):  0.125\n",
      "P( shears | D 1 ):  0.125\n",
      "P( boys | D 1 ):  0.125\n",
      "P( the | D 1 ):  0.125\n",
      "P( click | D 1 ):  0.5\n",
      "P( metal | D 1 ):  0.0\n",
      "\n",
      "\n",
      "P( here | D 2 ):  0.0\n",
      "P( go | D 2 ):  0.0\n",
      "P( shears | D 2 ):  0.0\n",
      "P( boys | D 2 ):  0.0\n",
      "P( the | D 2 ):  0.0\n",
      "P( click | D 2 ):  1.0\n",
      "P( metal | D 2 ):  0.0\n",
      "\n",
      "\n",
      "P( here | D 3 ):  0.5\n",
      "P( go | D 3 ):  0.0\n",
      "P( shears | D 3 ):  0.0\n",
      "P( boys | D 3 ):  0.0\n",
      "P( the | D 3 ):  0.0\n",
      "P( click | D 3 ):  0.0\n",
      "P( metal | D 3 ):  0.5\n",
      "\n",
      "\n",
      "P( here | D 4 ):  0.25\n",
      "P( go | D 4 ):  0.0\n",
      "P( shears | D 4 ):  0.25\n",
      "P( boys | D 4 ):  0.0\n",
      "P( the | D 4 ):  0.0\n",
      "P( click | D 4 ):  0.25\n",
      "P( metal | D 4 ):  0.25\n",
      "\n",
      "\n"
     ]
    }
   ],
   "source": [
    "for i in range(len(corpus)):\n",
    "    for word in unique_words:\n",
    "        print('P(',word,'| D',i+1,'): ', term_probability_for_document(word, corpus[i]))\n",
    "        \n",
    "    print('\\n')"
   ]
  },
  {
   "cell_type": "code",
   "execution_count": null,
   "metadata": {},
   "outputs": [],
   "source": [
    "def term_probability_for_corpus(term, corpus):\n",
    "    \"\"\" \n",
    "        The number of occurences of given term in given corpus \n",
    "        divided by total number of terms in this corpus.\n",
    "    \"\"\"\n",
    "    count = 0\n",
    "    count_all = 0\n",
    "    for doc in corpus:\n",
    "        words = doc.split() \n",
    "        count_all += len(words)\n",
    "        for word in words:\n",
    "            if word == term:\n",
    "                count += 1\n",
    "\n",
    "    return count / count_all"
   ]
  },
  {
   "cell_type": "code",
   "execution_count": null,
   "metadata": {},
   "outputs": [],
   "source": [
    "for word in unique_words:\n",
    "    print('P(',word,'|corpus): ', term_probability_for_corpus(word, corpus))"
   ]
  },
  {
   "cell_type": "markdown",
   "metadata": {},
   "source": [
    "## Calculate the ranked result set according to the un-smoothed, uniform model $𝑃_{𝑢𝑛𝑖}(𝑞 ∣ 𝑑)$"
   ]
  },
  {
   "cell_type": "code",
   "execution_count": null,
   "metadata": {},
   "outputs": [],
   "source": [
    "def query_probability_unsmoothed_for_doc(query, document):\n",
    "    \"\"\" \n",
    "    - for each query term multiply probabilities of term occurring in the document\n",
    "    - if at least one of the query words doesn't appear in the document the result is 0\n",
    "    \"\"\"\n",
    "    if query == '':\n",
    "        return 0\n",
    "    \n",
    "    result = 1\n",
    "    for term in query.split():\n",
    "        result *= term_probability_for_document(term, document)\n",
    "    \n",
    "    return result"
   ]
  },
  {
   "cell_type": "code",
   "execution_count": null,
   "metadata": {},
   "outputs": [],
   "source": [
    "from operator import itemgetter\n",
    "\n",
    "rankings = []\n",
    "for i in range(len(corpus)):\n",
    "    rankings += [(i, query_probability_unsmoothed_for_doc(query, corpus[i]))]\n",
    "    \n",
    "rankings.sort(key=itemgetter(1), reverse=True)\n",
    "\n",
    "print('Ranked documents for unsmoothed uniform model:\\n',['D'+str(d+1)+'('+str(score)+')' for d, score in rankings])"
   ]
  },
  {
   "cell_type": "markdown",
   "metadata": {},
   "source": [
    "## Calculate the ranked result set according to the linear-interpolated, uniform model $𝑃_{𝑖𝑛𝑡𝑒𝑟𝑝−𝑢𝑛𝑖}(𝑞 ∣ 𝑑)$ with 𝜆 = 0.5"
   ]
  },
  {
   "cell_type": "code",
   "execution_count": null,
   "metadata": {},
   "outputs": [],
   "source": [
    "def query_probability_linear_interpolated(query, document, corpus, coef):\n",
    "    if query == '':\n",
    "        return 0\n",
    "    \n",
    "    result = 1\n",
    "    for term in query.split():\n",
    "        result *= coef * term_probability_for_document(term, document) + \\\n",
    "                (1 - coef) * term_probability_for_corpus(term, corpus)\n",
    "    \n",
    "    return result"
   ]
  },
  {
   "cell_type": "code",
   "execution_count": null,
   "metadata": {},
   "outputs": [],
   "source": [
    "from operator import itemgetter\n",
    "\n",
    "rankings = []\n",
    "coef = 0.5\n",
    "for i in range(len(corpus)):\n",
    "    rankings += [(i, query_probability_linear_interpolated(query, corpus[i], corpus, coef))]\n",
    "    \n",
    "rankings.sort(key=itemgetter(1), reverse=True)\n",
    "\n",
    "print('Ranked documents for linear-interpolated uniform model\\nwith lambda=', coef,':\\n',['D'+str(d+1)+'('+str(score)+')' for d, score in rankings])"
   ]
  }
 ],
 "metadata": {
  "kernelspec": {
   "display_name": "Python 3",
   "language": "python",
   "name": "python3"
  },
  "language_info": {
   "codemirror_mode": {
    "name": "ipython",
    "version": 3
   },
   "file_extension": ".py",
   "mimetype": "text/x-python",
   "name": "python",
   "nbconvert_exporter": "python",
   "pygments_lexer": "ipython3",
   "version": "3.6.4"
  }
 },
 "nbformat": 4,
 "nbformat_minor": 2
}
