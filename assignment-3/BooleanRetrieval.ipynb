{
 "cells": [
  {
   "cell_type": "markdown",
   "metadata": {},
   "source": [
    "# Boolean Retrieval"
   ]
  },
  {
   "cell_type": "markdown",
   "metadata": {},
   "source": [
    "Generate matrix of term-document, perform the given boolean operation on it and create inverted index.\n",
    "Do it for four different documents."
   ]
  },
  {
   "cell_type": "markdown",
   "metadata": {},
   "source": [
    "Given documents:"
   ]
  },
  {
   "cell_type": "code",
   "execution_count": 1,
   "metadata": {},
   "outputs": [],
   "source": [
    "files = ['cinderella.txt', 'jackandthebeanstalk.txt', 'thefarmerandthebadger.txt', 'theprincessandthepea.txt']"
   ]
  },
  {
   "cell_type": "markdown",
   "metadata": {},
   "source": [
    "# Imports"
   ]
  },
  {
   "cell_type": "code",
   "execution_count": 2,
   "metadata": {},
   "outputs": [],
   "source": [
    "import numpy as np\n",
    "import pandas as pd\n",
    "import re"
   ]
  },
  {
   "cell_type": "markdown",
   "metadata": {},
   "source": [
    "# Text preprocessing"
   ]
  },
  {
   "cell_type": "markdown",
   "metadata": {},
   "source": [
    "Check how the first file looks like "
   ]
  },
  {
   "cell_type": "code",
   "execution_count": 3,
   "metadata": {},
   "outputs": [
    {
     "data": {
      "text/plain": [
       "\"ONCE there was a gentleman who married, for his second wife, the proudest and most haughty woman that was ever seen. She had, by a former husband, two daughters of her own humor, who were, indeed, exactly like her in all things. He had likewise, by another wife, a young daughter, but of unparalleled goodness and sweetness of temper, which she took from her mother, who was the best creature in the world.\\n\\nNo sooner were the ceremonies of the wedding over but the mother-in-law began to show herself in her true colors. She could not bear the good qualities of this pretty girl, and the less because they made her own daughters appear the more odious. She employed her in the meanest work of the house: she scoured the dishes, tables, etc., and scrubbed madam's chamber, and those of misses, her daughters; she lay up in a sorry garret, upon a wretched straw bed, while her sisters lay in fine rooms, with floors all inlaid, upon beds of the very newest fashion, and where they had looking-glasses \""
      ]
     },
     "execution_count": 3,
     "metadata": {},
     "output_type": "execute_result"
    }
   ],
   "source": [
    "file = open('data/cinderella.txt', 'r')\n",
    "content = file.read()\n",
    "file.close()\n",
    "\n",
    "content[0:1000]"
   ]
  },
  {
   "cell_type": "markdown",
   "metadata": {},
   "source": [
    "Text preprocessing steps:\n",
    "text to lower cases, remove numbers, special characters and duplicated white characters from text."
   ]
  },
  {
   "cell_type": "code",
   "execution_count": 4,
   "metadata": {},
   "outputs": [],
   "source": [
    "def get_preprocessed_text(text):\n",
    "    \"\"\"\n",
    "    Function conducts preprocessing on given text. \n",
    "    It changes text to lower cases, removes numbers, removes special characters and duplicated white characters.\n",
    "    \n",
    "    Args:\n",
    "        text (string): The text to convert.\n",
    "    Returns:\n",
    "        string: The text after preprocessing.\n",
    "    \"\"\"\n",
    "    if text != ' ':\n",
    "        text = text.lower() \n",
    "        text = re.sub(r'\\d+', '', text)\n",
    "        text = re.sub(r'[^\\w\\s]','',text)\n",
    "        text = re.sub(r\"\\s+\",\" \", text)\n",
    "    \n",
    "    return text"
   ]
  },
  {
   "cell_type": "code",
   "execution_count": 5,
   "metadata": {},
   "outputs": [
    {
     "data": {
      "text/plain": [
       "'once there was a gentleman who married for his second wife the proudest and most haughty woman that was ever seen she had by a former husband two daughters of her own humor who were indeed exactly like her in all things he had likewise by another wife a young daughter but of unparalleled goodness and sweetness of temper which she took from her mother who was the best creature in the world no sooner were the ceremonies of the wedding over but the motherinlaw began to show herself in her true colors she could not bear the good qualities of this pretty girl and the less because they made her own daughters appear the more odious she employed her in the meanest work of the house she scoured the dishes tables etc and scrubbed madams chamber and those of misses her daughters she lay up in a sorry garret upon a wretched straw bed while her sisters lay in fine rooms with floors all inlaid upon beds of the very newest fashion and where they had lookingglasses so large that they might see themsel'"
      ]
     },
     "execution_count": 5,
     "metadata": {},
     "output_type": "execute_result"
    }
   ],
   "source": [
    "content = get_preprocessed_text(content)\n",
    "content[0:1000]"
   ]
  },
  {
   "cell_type": "markdown",
   "metadata": {},
   "source": [
    "## Create term-document matrix"
   ]
  },
  {
   "cell_type": "code",
   "execution_count": 6,
   "metadata": {},
   "outputs": [],
   "source": [
    "def create_td_matrix(files_names_list): \n",
    "    \"\"\"\n",
    "    Creates term-document matrix based on given files.\n",
    "    \n",
    "    Args:\n",
    "        files_names_list (list[string]): The list with names of files to read data.\n",
    "    Returns:\n",
    "        pd.DataFrame: The DataFrame with file's names as columns and words as indexes.\n",
    "    \"\"\"\n",
    "    words_in_docs = [] # [[word1, word2, ...],[word3, word1, ...],...]\n",
    "    for file_name in files_names_list: \n",
    "        file = open(file_name, 'r')\n",
    "        content = file.read()\n",
    "        file.close()\n",
    "        \n",
    "        words_in_docs += [get_preprocessed_text(content).split()]\n",
    "\n",
    "    unique_words = [] #[word1, word2, word3, ...]\n",
    "    for words in words_in_docs:\n",
    "        unique_words += words\n",
    "    \n",
    "    unique_words = list(set(unique_words))\n",
    "    unique_words.sort(reverse=False)\n",
    "    \n",
    "    dt_matrix = np.zeros(shape=(len(unique_words), len(files_names_list)), dtype=np.int8)  \n",
    "    columns = [name[:-4] for name in files_names_list]\n",
    "    dt_matrix = pd.DataFrame(dt_matrix, columns=columns,index=unique_words)\n",
    "    \n",
    "    for i in range(len(words_in_docs)):\n",
    "        column_name = columns[i]\n",
    "        words_list = words_in_docs[i]\n",
    "        for word in unique_words:\n",
    "            if word in words_list:\n",
    "                dt_matrix[column_name][word] = 1\n",
    "                \n",
    "    return dt_matrix"
   ]
  },
  {
   "cell_type": "code",
   "execution_count": 7,
   "metadata": {},
   "outputs": [],
   "source": [
    "td_matrix = create_td_matrix(['data/' + file for file in files])"
   ]
  },
  {
   "cell_type": "markdown",
   "metadata": {},
   "source": [
    "Head of term-document matrix:"
   ]
  },
  {
   "cell_type": "code",
   "execution_count": 8,
   "metadata": {},
   "outputs": [
    {
     "data": {
      "text/html": [
       "<div>\n",
       "<style scoped>\n",
       "    .dataframe tbody tr th:only-of-type {\n",
       "        vertical-align: middle;\n",
       "    }\n",
       "\n",
       "    .dataframe tbody tr th {\n",
       "        vertical-align: top;\n",
       "    }\n",
       "\n",
       "    .dataframe thead th {\n",
       "        text-align: right;\n",
       "    }\n",
       "</style>\n",
       "<table border=\"1\" class=\"dataframe\">\n",
       "  <thead>\n",
       "    <tr style=\"text-align: right;\">\n",
       "      <th></th>\n",
       "      <th>data/cinderella</th>\n",
       "      <th>data/jackandthebeanstalk</th>\n",
       "      <th>data/thefarmerandthebadger</th>\n",
       "      <th>data/theprincessandthepea</th>\n",
       "    </tr>\n",
       "  </thead>\n",
       "  <tbody>\n",
       "    <tr>\n",
       "      <th>a</th>\n",
       "      <td>1</td>\n",
       "      <td>1</td>\n",
       "      <td>1</td>\n",
       "      <td>1</td>\n",
       "    </tr>\n",
       "    <tr>\n",
       "      <th>able</th>\n",
       "      <td>1</td>\n",
       "      <td>0</td>\n",
       "      <td>1</td>\n",
       "      <td>0</td>\n",
       "    </tr>\n",
       "    <tr>\n",
       "      <th>about</th>\n",
       "      <td>0</td>\n",
       "      <td>1</td>\n",
       "      <td>1</td>\n",
       "      <td>1</td>\n",
       "    </tr>\n",
       "    <tr>\n",
       "      <th>above</th>\n",
       "      <td>1</td>\n",
       "      <td>0</td>\n",
       "      <td>0</td>\n",
       "      <td>0</td>\n",
       "    </tr>\n",
       "    <tr>\n",
       "      <th>abundantly</th>\n",
       "      <td>1</td>\n",
       "      <td>0</td>\n",
       "      <td>0</td>\n",
       "      <td>0</td>\n",
       "    </tr>\n",
       "  </tbody>\n",
       "</table>\n",
       "</div>"
      ],
      "text/plain": [
       "            data/cinderella  data/jackandthebeanstalk  \\\n",
       "a                         1                         1   \n",
       "able                      1                         0   \n",
       "about                     0                         1   \n",
       "above                     1                         0   \n",
       "abundantly                1                         0   \n",
       "\n",
       "            data/thefarmerandthebadger  data/theprincessandthepea  \n",
       "a                                    1                          1  \n",
       "able                                 1                          0  \n",
       "about                                1                          1  \n",
       "above                                0                          0  \n",
       "abundantly                           0                          0  "
      ]
     },
     "execution_count": 8,
     "metadata": {},
     "output_type": "execute_result"
    }
   ],
   "source": [
    "td_matrix.head()"
   ]
  },
  {
   "cell_type": "markdown",
   "metadata": {},
   "source": [
    "## Perform boolean operations"
   ]
  },
  {
   "cell_type": "markdown",
   "metadata": {},
   "source": [
    "### 1. animal AND beautiful"
   ]
  },
  {
   "cell_type": "code",
   "execution_count": 9,
   "metadata": {},
   "outputs": [],
   "source": [
    "word1 = 'animal'\n",
    "word2 = 'beautiful'"
   ]
  },
  {
   "cell_type": "markdown",
   "metadata": {},
   "source": [
    "Show with text contains given word:"
   ]
  },
  {
   "cell_type": "code",
   "execution_count": 10,
   "metadata": {},
   "outputs": [
    {
     "data": {
      "text/plain": [
       "data/cinderella               0\n",
       "data/jackandthebeanstalk      0\n",
       "data/thefarmerandthebadger    1\n",
       "data/theprincessandthepea     0\n",
       "Name: animal, dtype: int8"
      ]
     },
     "execution_count": 10,
     "metadata": {},
     "output_type": "execute_result"
    }
   ],
   "source": [
    "td_matrix.loc[word1]"
   ]
  },
  {
   "cell_type": "code",
   "execution_count": 11,
   "metadata": {},
   "outputs": [
    {
     "data": {
      "text/plain": [
       "data/cinderella               1\n",
       "data/jackandthebeanstalk      1\n",
       "data/thefarmerandthebadger    1\n",
       "data/theprincessandthepea     0\n",
       "Name: beautiful, dtype: int8"
      ]
     },
     "execution_count": 11,
     "metadata": {},
     "output_type": "execute_result"
    }
   ],
   "source": [
    "td_matrix.loc[word2]"
   ]
  },
  {
   "cell_type": "code",
   "execution_count": 12,
   "metadata": {},
   "outputs": [],
   "source": [
    "def word1_and_word2(dt_matrix, word1, word2):\n",
    "    \"\"\"    \n",
    "    Args:\n",
    "        dt_matrix (pd.DataFrame): The term-document matrix.\n",
    "        word1 (string): The first word from dt_matrix.\n",
    "        word2 (string): The second word from dt_matrix.\n",
    "    Returns:\n",
    "        list[string]: The result of operation 'word1 AND word2' on dt_matrix.\n",
    "                      The list of files.\n",
    "    \"\"\"\n",
    "    result = []\n",
    "    query_result = list(dt_matrix.loc[word1] & dt_matrix.loc[word2])\n",
    "    columns = dt_matrix.columns\n",
    "\n",
    "    for i in range(len(query_result)):    \n",
    "        if query_result[i] == 1:\n",
    "            result += [columns[i]]\n",
    "\n",
    "    return result"
   ]
  },
  {
   "cell_type": "code",
   "execution_count": 13,
   "metadata": {},
   "outputs": [
    {
     "name": "stdout",
     "output_type": "stream",
     "text": [
      "Result of query:  animal  AND  beautiful  -> ['data/thefarmerandthebadger']\n"
     ]
    }
   ],
   "source": [
    "print('Result of query: ',word1, ' AND ', word2, ' ->', word1_and_word2(td_matrix, word1, word2))"
   ]
  },
  {
   "cell_type": "markdown",
   "metadata": {},
   "source": [
    "### 2. badger AND NOT (animal OR country)"
   ]
  },
  {
   "cell_type": "code",
   "execution_count": 14,
   "metadata": {},
   "outputs": [],
   "source": [
    "def query2(dt_matrix, word1, word2, word3):\n",
    "    \"\"\"\n",
    "    Args:\n",
    "        dt_matrix (pd.DataFrame): The term-document matrix.\n",
    "        word1 (string): The first word from dt_matrix.\n",
    "        word2 (string): The second word from dt_matrix.\n",
    "        word3 (string): The third word from dt_matrix.\n",
    "    Returns:\n",
    "        list[string]: The result of operation 'word1 AND NOT (word2 OR word3)' on dt_matrix.\n",
    "                      The list of files.\n",
    "    \"\"\"\n",
    "    result = []\n",
    "    query_result = list(dt_matrix.loc[word2] | dt_matrix.loc[word3])\n",
    "    query_result = [0 if el == 1 else 1 for el in query_result]\n",
    "    \n",
    "    query_result = np.array(dt_matrix.loc[word1]) & np.array(query_result)\n",
    "    columns = dt_matrix.columns\n",
    "\n",
    "    for i in range(len(query_result)):    \n",
    "        if query_result[i] == 1:\n",
    "            result += [columns[i]]\n",
    "\n",
    "    return result"
   ]
  },
  {
   "cell_type": "code",
   "execution_count": 15,
   "metadata": {},
   "outputs": [],
   "source": [
    "word1, word2, word3 = 'badger', 'animal', 'country'"
   ]
  },
  {
   "cell_type": "markdown",
   "metadata": {},
   "source": [
    "Show with text contains given word:"
   ]
  },
  {
   "cell_type": "code",
   "execution_count": 16,
   "metadata": {},
   "outputs": [
    {
     "data": {
      "text/plain": [
       "data/cinderella               0\n",
       "data/jackandthebeanstalk      0\n",
       "data/thefarmerandthebadger    1\n",
       "data/theprincessandthepea     0\n",
       "Name: badger, dtype: int8"
      ]
     },
     "execution_count": 16,
     "metadata": {},
     "output_type": "execute_result"
    }
   ],
   "source": [
    "td_matrix.loc[word1]"
   ]
  },
  {
   "cell_type": "code",
   "execution_count": 17,
   "metadata": {},
   "outputs": [
    {
     "data": {
      "text/plain": [
       "data/cinderella               0\n",
       "data/jackandthebeanstalk      0\n",
       "data/thefarmerandthebadger    1\n",
       "data/theprincessandthepea     0\n",
       "Name: animal, dtype: int8"
      ]
     },
     "execution_count": 17,
     "metadata": {},
     "output_type": "execute_result"
    }
   ],
   "source": [
    "td_matrix.loc[word2]"
   ]
  },
  {
   "cell_type": "code",
   "execution_count": 18,
   "metadata": {},
   "outputs": [
    {
     "data": {
      "text/plain": [
       "data/cinderella               1\n",
       "data/jackandthebeanstalk      0\n",
       "data/thefarmerandthebadger    0\n",
       "data/theprincessandthepea     0\n",
       "Name: country, dtype: int8"
      ]
     },
     "execution_count": 18,
     "metadata": {},
     "output_type": "execute_result"
    }
   ],
   "source": [
    "td_matrix.loc[word3]"
   ]
  },
  {
   "cell_type": "code",
   "execution_count": 19,
   "metadata": {},
   "outputs": [
    {
     "name": "stdout",
     "output_type": "stream",
     "text": [
      "Result of query:  badger  AND NOT ( animal  OR  country ) ->  []\n"
     ]
    }
   ],
   "source": [
    "print('Result of query: ',word1, ' AND NOT (', word2, ' OR ', word3, ') -> ', query2(td_matrix, word1, word2, word3))"
   ]
  },
  {
   "cell_type": "markdown",
   "metadata": {},
   "source": [
    "# Create Inverted Index"
   ]
  },
  {
   "cell_type": "code",
   "execution_count": 20,
   "metadata": {},
   "outputs": [],
   "source": [
    "inverted_index = pd.DataFrame()\n",
    "inverted_index['posting_list'] = ''\n",
    "\n",
    "for term, row in td_matrix.iterrows():  \n",
    "    posting_list = list(td_matrix.columns[row ==True])    \n",
    "    inverted_index.at[term, 'posting_list']= posting_list"
   ]
  },
  {
   "cell_type": "markdown",
   "metadata": {},
   "source": [
    "Show Inverted Index:"
   ]
  },
  {
   "cell_type": "code",
   "execution_count": 21,
   "metadata": {},
   "outputs": [
    {
     "data": {
      "text/html": [
       "<div>\n",
       "<style scoped>\n",
       "    .dataframe tbody tr th:only-of-type {\n",
       "        vertical-align: middle;\n",
       "    }\n",
       "\n",
       "    .dataframe tbody tr th {\n",
       "        vertical-align: top;\n",
       "    }\n",
       "\n",
       "    .dataframe thead th {\n",
       "        text-align: right;\n",
       "    }\n",
       "</style>\n",
       "<table border=\"1\" class=\"dataframe\">\n",
       "  <thead>\n",
       "    <tr style=\"text-align: right;\">\n",
       "      <th></th>\n",
       "      <th>posting_list</th>\n",
       "    </tr>\n",
       "  </thead>\n",
       "  <tbody>\n",
       "    <tr>\n",
       "      <th>a</th>\n",
       "      <td>[data/cinderella, data/jackandthebeanstalk, da...</td>\n",
       "    </tr>\n",
       "    <tr>\n",
       "      <th>able</th>\n",
       "      <td>[data/cinderella, data/thefarmerandthebadger]</td>\n",
       "    </tr>\n",
       "    <tr>\n",
       "      <th>about</th>\n",
       "      <td>[data/jackandthebeanstalk, data/thefarmerandth...</td>\n",
       "    </tr>\n",
       "    <tr>\n",
       "      <th>above</th>\n",
       "      <td>[data/cinderella]</td>\n",
       "    </tr>\n",
       "    <tr>\n",
       "      <th>abundantly</th>\n",
       "      <td>[data/cinderella]</td>\n",
       "    </tr>\n",
       "  </tbody>\n",
       "</table>\n",
       "</div>"
      ],
      "text/plain": [
       "                                                 posting_list\n",
       "a           [data/cinderella, data/jackandthebeanstalk, da...\n",
       "able            [data/cinderella, data/thefarmerandthebadger]\n",
       "about       [data/jackandthebeanstalk, data/thefarmerandth...\n",
       "above                                       [data/cinderella]\n",
       "abundantly                                  [data/cinderella]"
      ]
     },
     "execution_count": 21,
     "metadata": {},
     "output_type": "execute_result"
    }
   ],
   "source": [
    "inverted_index.head()"
   ]
  }
 ],
 "metadata": {
  "kernelspec": {
   "display_name": "Python 3",
   "language": "python",
   "name": "python3"
  },
  "language_info": {
   "codemirror_mode": {
    "name": "ipython",
    "version": 3
   },
   "file_extension": ".py",
   "mimetype": "text/x-python",
   "name": "python",
   "nbconvert_exporter": "python",
   "pygments_lexer": "ipython3",
   "version": "3.6.4"
  }
 },
 "nbformat": 4,
 "nbformat_minor": 2
}
