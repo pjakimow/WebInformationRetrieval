{
 "cells": [
  {
   "cell_type": "markdown",
   "metadata": {},
   "source": [
    "# Zone Index"
   ]
  },
  {
   "cell_type": "markdown",
   "metadata": {},
   "source": [
    "files:"
   ]
  },
  {
   "cell_type": "code",
   "execution_count": 1,
   "metadata": {},
   "outputs": [
    {
     "data": {
      "text/plain": [
       "['d0.html', 'd1.html', 'd2.html', 'd3.html', 'd4.html']"
      ]
     },
     "execution_count": 1,
     "metadata": {},
     "output_type": "execute_result"
    }
   ],
   "source": [
    "files = ['d'+str(i)+'.html' for i in range(5)]\n",
    "files"
   ]
  },
  {
   "cell_type": "code",
   "execution_count": 2,
   "metadata": {},
   "outputs": [],
   "source": [
    "file = open(files[0], 'r', encoding=None)# utf8 for one file\n",
    "content = file.read()\n",
    "file.close()"
   ]
  },
  {
   "cell_type": "code",
   "execution_count": 3,
   "metadata": {},
   "outputs": [],
   "source": [
    "def get_preprocessed_text(text):\n",
    "    \"\"\"\n",
    "    Function conducts preprocessing on given text. \n",
    "    It changes text to lower cases, removes numbers, removes special characters and duplicated white characters.\n",
    "    \n",
    "    Args:\n",
    "        text (string): The text to convert.\n",
    "    Returns:\n",
    "        string: The text after preprocessing.\n",
    "    \"\"\"\n",
    "    import re\n",
    "    if text != ' ':\n",
    "        text = text.lower() \n",
    "        text = re.sub(r'\\d+', '', text)\n",
    "        text = re.sub(r'[^\\w\\s]','',text)\n",
    "        text = re.sub(r\"\\s+\",\" \", text)\n",
    "    \n",
    "    return text"
   ]
  },
  {
   "cell_type": "code",
   "execution_count": 4,
   "metadata": {},
   "outputs": [],
   "source": [
    "def get_title(document):\n",
    "    document = document.lower()\n",
    "    index0 = document.find('<title>')\n",
    "    index1 = document.find('</title>')\n",
    "    \n",
    "    return document[index0+len('<title>'):index1]"
   ]
  },
  {
   "cell_type": "code",
   "execution_count": 5,
   "metadata": {},
   "outputs": [
    {
     "data": {
      "text/plain": [
       "'\\nauditory and visual feedback during eye typing\\n'"
      ]
     },
     "execution_count": 5,
     "metadata": {},
     "output_type": "execute_result"
    }
   ],
   "source": [
    "t = get_title(content)\n",
    "t"
   ]
  },
  {
   "cell_type": "code",
   "execution_count": 7,
   "metadata": {},
   "outputs": [
    {
     "data": {
      "text/plain": [
       "' auditory and visual feedback during eye typing '"
      ]
     },
     "execution_count": 7,
     "metadata": {},
     "output_type": "execute_result"
    }
   ],
   "source": [
    "get_preprocessed_text(t)"
   ]
  },
  {
   "cell_type": "code",
   "execution_count": 6,
   "metadata": {},
   "outputs": [],
   "source": [
    "def get_abstract(document):\n",
    "    document = document.lower()\n",
    "    search = '<b>abstract</b>'\n",
    "    index = document.find(search)\n",
    "    if index == -1:\n",
    "        search = '<b>abstract:</b>'\n",
    "        index = document.find(search)\n",
    "        \n",
    "    result = document[index+len(search):]\n",
    "    if result[:4]=='<br>':\n",
    "        result= result[4:]\n",
    "    index = result.find('<p') # it is the end of abstract\n",
    "    result = result[:index]\n",
    "    \n",
    "    return result"
   ]
  },
  {
   "cell_type": "code",
   "execution_count": 7,
   "metadata": {},
   "outputs": [
    {
     "data": {
      "text/plain": [
       "\"\\nwe describe a study on how auditory and visual feedback affects eye \\ntyping. results show that the feedback method influences both text entry\\n speed and error rate. in addition, a proper feedback mode facilitates \\neye typing by reducing the user's need to switch her gaze between the \\non-screen keyboard and the typed text field.\\n\""
      ]
     },
     "execution_count": 7,
     "metadata": {},
     "output_type": "execute_result"
    }
   ],
   "source": [
    "a = get_abstract(content)\n",
    "a"
   ]
  },
  {
   "cell_type": "code",
   "execution_count": 8,
   "metadata": {},
   "outputs": [
    {
     "data": {
      "text/plain": [
       "' we describe a study on how auditory and visual feedback affects eye typing results show that the feedback method influences both text entry speed and error rate in addition a proper feedback mode facilitates eye typing by reducing the users need to switch her gaze between the onscreen keyboard and the typed text field '"
      ]
     },
     "execution_count": 8,
     "metadata": {},
     "output_type": "execute_result"
    }
   ],
   "source": [
    "get_preprocessed_text(a)"
   ]
  },
  {
   "cell_type": "code",
   "execution_count": 9,
   "metadata": {},
   "outputs": [],
   "source": [
    "def get_introduction(document):\n",
    "    \"\"\"\n",
    "    introduction title is always in <h2> tag \n",
    "    \"\"\"\n",
    "    result = ''\n",
    "    found = False # if introduction zone is found\n",
    "    document = document.lower()\n",
    "    \n",
    "    # find beginning of zone - when tag <h2> with specified content occurrs\n",
    "    while not found:\n",
    "        index0 = document.find('<h2>')\n",
    "        index1 = document.find('</h2>')\n",
    "        result = document[index1+len('<\\h2>'):]\n",
    "        \n",
    "        if document[index0:index1].find('introduction') > -1: \n",
    "            found = True\n",
    "    \n",
    "    # find end of zone - when the next <h2>-tag occurrs\n",
    "    index = result.find('<h2>')\n",
    "    result = result[:index]        \n",
    "    return result"
   ]
  },
  {
   "cell_type": "code",
   "execution_count": 10,
   "metadata": {},
   "outputs": [
    {
     "data": {
      "text/plain": [
       "'\\n<p>\\nfor people with severe disabilities their eyes may be the only means for\\n communication. even though eye typing has been studied for many years, \\nthere is little research on design issues [2]. our goal was to study how\\n feedback could facilitate the tedious [1] eye typing task and make \\ngaze-based computer-aided communication more practical for those who \\nneed it.\\n</p><p>\\n\\n</p><h3>\\nfeedback modes\\n</h3>\\n\\n<p>\\nduring eye typing the user first focuses on the desired letter. to \\nselect the focused letter she continues to fixate on it thus using dwell\\n time as an activation command. feedback is given for focus and \\nselection. the following four feedback modes were tested. \\n</p><p>\\n\\n<b>visual only.</b> in the visual only mode, the key is highlighted on \\nfocus (the 2nd key on left in figure 1) and its symbol shrinks as dwell \\ntime elapses. the shrinking draws the attention in, helping the user \\nfocus on the center of the key. on selection the letter turns red and \\nthe key goes down. \\n</p><p>\\n\\n</p><center>\\n<img src=\"d0_files/chi03d-f1.gif\"><br>\\n<b>figure 1.</b> animation for visual only feedback mode \\n</center>\\n<p>\\n\\n<b>speech only.</b> the speech only mode did not use visual feedback. the symbol on the key was spoken on selection.\\n</p><p>\\n\\n<b>click plus visual.</b> the click plus visual mode uses two \\nmodalities; it has the same visual feedback seen in figure 1 and, in \\naddition, a short \"click\" is heard on selection.\\n</p><p>\\n\\n<b>speech plus visual.</b> the speech plus visual mode again uses the same visual feedback plus the symbol on the key is spoken on selection.\\n</p><p>\\nthe dwell time was the same for all modes: 400 ms before the start of \\nthe focus and 900 ms before selection. a summary of the modes follows.\\n\\n</p><center>\\n<table cellspacing=\"0\" cellpadding=\"5\" border=\"1\" bgcolor=\"#f0f0f0\">\\n<tbody><tr bgcolor=\"#e0e0e0\">\\n<th align=\"center\">feedback mode\\n</th><th align=\"center\">while focused\\n</th><th align=\"center\">when selected\\n\\n</th></tr><tr>\\n<td align=\"left\">visual only\\n</td><td align=\"left\">shrinking letter\\n</td><td align=\"left\">red letter, key down\\n\\n</td></tr><tr>\\n<td align=\"left\">speech only\\n</td><td align=\"left\">none\\n</td><td align=\"left\">letter spoken\\n\\n</td></tr><tr>\\n<td align=\"left\">click + visual\\n</td><td align=\"left\">shrinking letter\\n</td><td align=\"left\">red letter, key down, click\\n\\n</td></tr><tr>\\n<td align=\"left\">speech + visual\\n</td><td align=\"left\">shrinking letter\\n</td><td align=\"left\">red letter, key down,<br> \\nletter spoken\\n</td></tr></tbody></table>\\n</center>\\n\\n'"
      ]
     },
     "execution_count": 10,
     "metadata": {},
     "output_type": "execute_result"
    }
   ],
   "source": [
    "i = get_introduction(content)\n",
    "i"
   ]
  },
  {
   "cell_type": "code",
   "execution_count": 11,
   "metadata": {},
   "outputs": [],
   "source": [
    "def remove_tags_from_string(text, \n",
    "                            toRemove=['<p>', '</p>', '<b>', '</b>', '<br>', '<h3>', '</h3>', '<center>', '</center>', \n",
    "            '</table>', '</tbody>','</tr>', '</th>', '</td>'], \n",
    "                            removeImages=True, \n",
    "                            additionallyTags=['<table', '<tbody', '<tr', '<th', '<td']):\n",
    "    \"\"\"\n",
    "    for example: <img src=\"...\">\n",
    "    \"\"\"\n",
    "    text = text.lower()\n",
    "    for word in toRemove:\n",
    "        text = text.replace(word, '')\n",
    "    \n",
    "    # remove images\n",
    "    i = text.find('<img')\n",
    "    while i > -1:\n",
    "        temp = text[i:]\n",
    "        j = i + temp.find('>')\n",
    "        text = text[:i] + text[j+1:]\n",
    "        i = text.find('<img')\n",
    "    \n",
    "    # remove tables tags\n",
    "    for tag in additionallyTags:\n",
    "        i = text.find(tag)\n",
    "        while i > -1:\n",
    "            temp = text[i:]\n",
    "            j = i + temp.find('>')\n",
    "            text = text[:i] + text[j+1:]\n",
    "            i = text.find(tag)\n",
    "        \n",
    "    return text         "
   ]
  },
  {
   "cell_type": "code",
   "execution_count": 12,
   "metadata": {},
   "outputs": [
    {
     "data": {
      "text/plain": [
       "'\\n\\nfor people with severe disabilities their eyes may be the only means for\\n communication. even though eye typing has been studied for many years, \\nthere is little research on design issues [2]. our goal was to study how\\n feedback could facilitate the tedious [1] eye typing task and make \\ngaze-based computer-aided communication more practical for those who \\nneed it.\\n\\n\\n\\nfeedback modes\\n\\n\\n\\nduring eye typing the user first focuses on the desired letter. to \\nselect the focused letter she continues to fixate on it thus using dwell\\n time as an activation command. feedback is given for focus and \\nselection. the following four feedback modes were tested. \\n\\n\\nvisual only. in the visual only mode, the key is highlighted on \\nfocus (the 2nd key on left in figure 1) and its symbol shrinks as dwell \\ntime elapses. the shrinking draws the attention in, helping the user \\nfocus on the center of the key. on selection the letter turns red and \\nthe key goes down. \\n\\n\\n\\n\\nfigure 1. animation for visual only feedback mode \\n\\n\\n\\nspeech only. the speech only mode did not use visual feedback. the symbol on the key was spoken on selection.\\n\\n\\nclick plus visual. the click plus visual mode uses two \\nmodalities; it has the same visual feedback seen in figure 1 and, in \\naddition, a short \"click\" is heard on selection.\\n\\n\\nspeech plus visual. the speech plus visual mode again uses the same visual feedback plus the symbol on the key is spoken on selection.\\n\\nthe dwell time was the same for all modes: 400 ms before the start of \\nthe focus and 900 ms before selection. a summary of the modes follows.\\n\\n\\n\\n\\nfeedback mode\\nwhile focused\\nwhen selected\\n\\n\\nvisual only\\nshrinking letter\\nred letter, key down\\n\\n\\nspeech only\\nnone\\nletter spoken\\n\\n\\nclick + visual\\nshrinking letter\\nred letter, key down, click\\n\\n\\nspeech + visual\\nshrinking letter\\nred letter, key down, \\nletter spoken\\n\\n\\n\\n'"
      ]
     },
     "execution_count": 12,
     "metadata": {},
     "output_type": "execute_result"
    }
   ],
   "source": [
    "i = remove_tags_from_string(i)\n",
    "i"
   ]
  },
  {
   "cell_type": "code",
   "execution_count": 13,
   "metadata": {},
   "outputs": [
    {
     "data": {
      "text/plain": [
       "' for people with severe disabilities their eyes may be the only means for communication even though eye typing has been studied for many years there is little research on design issues our goal was to study how feedback could facilitate the tedious eye typing task and make gazebased computeraided communication more practical for those who need it feedback modes during eye typing the user first focuses on the desired letter to select the focused letter she continues to fixate on it thus using dwell time as an activation command feedback is given for focus and selection the following four feedback modes were tested visual only in the visual only mode the key is highlighted on focus the nd key on left in figure and its symbol shrinks as dwell time elapses the shrinking draws the attention in helping the user focus on the center of the key on selection the letter turns red and the key goes down figure animation for visual only feedback mode speech only the speech only mode did not use visual feedback the symbol on the key was spoken on selection click plus visual the click plus visual mode uses two modalities it has the same visual feedback seen in figure and in addition a short click is heard on selection speech plus visual the speech plus visual mode again uses the same visual feedback plus the symbol on the key is spoken on selection the dwell time was the same for all modes ms before the start of the focus and ms before selection a summary of the modes follows feedback mode while focused when selected visual only shrinking letter red letter key down speech only none letter spoken click visual shrinking letter red letter key down click speech visual shrinking letter red letter key down letter spoken '"
      ]
     },
     "execution_count": 13,
     "metadata": {},
     "output_type": "execute_result"
    }
   ],
   "source": [
    "get_preprocessed_text(i)"
   ]
  },
  {
   "cell_type": "markdown",
   "metadata": {},
   "source": [
    "# The zone index"
   ]
  },
  {
   "cell_type": "code",
   "execution_count": 16,
   "metadata": {},
   "outputs": [],
   "source": [
    "import pandas as pd"
   ]
  },
  {
   "cell_type": "code",
   "execution_count": 14,
   "metadata": {},
   "outputs": [],
   "source": [
    "def create_zone_index(files):\n",
    "    df = None\n",
    "    zones = ['title','abstract','intro']\n",
    "    for i in range(len(files)):\n",
    "        try:\n",
    "            f = open(files[i], 'r', encoding=None)\n",
    "            content = f.read()\n",
    "        except:\n",
    "            f = open(files[i], 'r', encoding=\"utf8\")\n",
    "            content = f.read()\n",
    "\n",
    "        f.close()\n",
    "\n",
    "        # title\n",
    "        text = get_preprocessed_text(get_title(content))\n",
    "        words = text.split()\n",
    "\n",
    "        tfs = dict.fromkeys(set(words))\n",
    "        for w in tfs.keys():\n",
    "            tfs[w] = words.count(w)\n",
    "\n",
    "        if df is not None:\n",
    "            df = pd.concat([df, pd.DataFrame.from_dict(tfs, orient='index', columns=['d'+str(i)+'-title'])],  sort=False, axis=1)\n",
    "        else:\n",
    "            df = pd.DataFrame.from_dict(tfs, orient='index', columns=['d'+str(i)+'-'+zones[0]])\n",
    "\n",
    "        # abstract\n",
    "        text = get_preprocessed_text(get_abstract(content))\n",
    "        words = text.split()\n",
    "\n",
    "        tfs = dict.fromkeys(set(words))\n",
    "        for w in tfs.keys():\n",
    "            tfs[w] = words.count(w)\n",
    "\n",
    "        df = pd.concat([df, pd.DataFrame.from_dict(tfs, orient='index', columns=['d'+str(i)+'-abstract'])],  sort=False, axis=1)\n",
    "\n",
    "        # introduction\n",
    "        text = get_preprocessed_text(remove_tags_from_string(get_introduction(content)))\n",
    "        words = text.split()\n",
    "\n",
    "        tfs = dict.fromkeys(set(words))\n",
    "        for w in tfs.keys():\n",
    "            tfs[w] = words.count(w)\n",
    "\n",
    "        df = pd.concat([df, pd.DataFrame.from_dict(tfs, orient='index', columns=['d'+str(i)+'-intro'])],  sort=False, axis=1)\n",
    "\n",
    "    df.fillna(0, inplace=True)\n",
    "    \n",
    "    return df"
   ]
  },
  {
   "cell_type": "code",
   "execution_count": 17,
   "metadata": {},
   "outputs": [
    {
     "data": {
      "text/html": [
       "<div>\n",
       "<style scoped>\n",
       "    .dataframe tbody tr th:only-of-type {\n",
       "        vertical-align: middle;\n",
       "    }\n",
       "\n",
       "    .dataframe tbody tr th {\n",
       "        vertical-align: top;\n",
       "    }\n",
       "\n",
       "    .dataframe thead th {\n",
       "        text-align: right;\n",
       "    }\n",
       "</style>\n",
       "<table border=\"1\" class=\"dataframe\">\n",
       "  <thead>\n",
       "    <tr style=\"text-align: right;\">\n",
       "      <th></th>\n",
       "      <th>d0-title</th>\n",
       "      <th>d0-abstract</th>\n",
       "      <th>d0-intro</th>\n",
       "      <th>d1-title</th>\n",
       "      <th>d1-abstract</th>\n",
       "      <th>d1-intro</th>\n",
       "      <th>d2-title</th>\n",
       "      <th>d2-abstract</th>\n",
       "      <th>d2-intro</th>\n",
       "      <th>d3-title</th>\n",
       "      <th>d3-abstract</th>\n",
       "      <th>d3-intro</th>\n",
       "      <th>d4-title</th>\n",
       "      <th>d4-abstract</th>\n",
       "      <th>d4-intro</th>\n",
       "    </tr>\n",
       "  </thead>\n",
       "  <tbody>\n",
       "    <tr>\n",
       "      <th>a</th>\n",
       "      <td>0.0</td>\n",
       "      <td>2.0</td>\n",
       "      <td>2.0</td>\n",
       "      <td>0.0</td>\n",
       "      <td>1.0</td>\n",
       "      <td>18.0</td>\n",
       "      <td>0.0</td>\n",
       "      <td>2.0</td>\n",
       "      <td>7.0</td>\n",
       "      <td>1.0</td>\n",
       "      <td>4.0</td>\n",
       "      <td>7.0</td>\n",
       "      <td>0.0</td>\n",
       "      <td>6.0</td>\n",
       "      <td>9.0</td>\n",
       "    </tr>\n",
       "    <tr>\n",
       "      <th>ability</th>\n",
       "      <td>0.0</td>\n",
       "      <td>0.0</td>\n",
       "      <td>0.0</td>\n",
       "      <td>0.0</td>\n",
       "      <td>0.0</td>\n",
       "      <td>0.0</td>\n",
       "      <td>0.0</td>\n",
       "      <td>0.0</td>\n",
       "      <td>0.0</td>\n",
       "      <td>0.0</td>\n",
       "      <td>0.0</td>\n",
       "      <td>0.0</td>\n",
       "      <td>0.0</td>\n",
       "      <td>0.0</td>\n",
       "      <td>1.0</td>\n",
       "    </tr>\n",
       "    <tr>\n",
       "      <th>able</th>\n",
       "      <td>0.0</td>\n",
       "      <td>0.0</td>\n",
       "      <td>0.0</td>\n",
       "      <td>0.0</td>\n",
       "      <td>0.0</td>\n",
       "      <td>0.0</td>\n",
       "      <td>0.0</td>\n",
       "      <td>0.0</td>\n",
       "      <td>1.0</td>\n",
       "      <td>0.0</td>\n",
       "      <td>0.0</td>\n",
       "      <td>0.0</td>\n",
       "      <td>0.0</td>\n",
       "      <td>0.0</td>\n",
       "      <td>0.0</td>\n",
       "    </tr>\n",
       "    <tr>\n",
       "      <th>about</th>\n",
       "      <td>0.0</td>\n",
       "      <td>0.0</td>\n",
       "      <td>0.0</td>\n",
       "      <td>0.0</td>\n",
       "      <td>0.0</td>\n",
       "      <td>3.0</td>\n",
       "      <td>0.0</td>\n",
       "      <td>0.0</td>\n",
       "      <td>0.0</td>\n",
       "      <td>0.0</td>\n",
       "      <td>0.0</td>\n",
       "      <td>0.0</td>\n",
       "      <td>0.0</td>\n",
       "      <td>0.0</td>\n",
       "      <td>2.0</td>\n",
       "    </tr>\n",
       "    <tr>\n",
       "      <th>accelerometer</th>\n",
       "      <td>0.0</td>\n",
       "      <td>0.0</td>\n",
       "      <td>0.0</td>\n",
       "      <td>0.0</td>\n",
       "      <td>0.0</td>\n",
       "      <td>0.0</td>\n",
       "      <td>0.0</td>\n",
       "      <td>0.0</td>\n",
       "      <td>0.0</td>\n",
       "      <td>0.0</td>\n",
       "      <td>0.0</td>\n",
       "      <td>2.0</td>\n",
       "      <td>0.0</td>\n",
       "      <td>0.0</td>\n",
       "      <td>0.0</td>\n",
       "    </tr>\n",
       "  </tbody>\n",
       "</table>\n",
       "</div>"
      ],
      "text/plain": [
       "               d0-title  d0-abstract  d0-intro  d1-title  d1-abstract  \\\n",
       "a                   0.0          2.0       2.0       0.0          1.0   \n",
       "ability             0.0          0.0       0.0       0.0          0.0   \n",
       "able                0.0          0.0       0.0       0.0          0.0   \n",
       "about               0.0          0.0       0.0       0.0          0.0   \n",
       "accelerometer       0.0          0.0       0.0       0.0          0.0   \n",
       "\n",
       "               d1-intro  d2-title  d2-abstract  d2-intro  d3-title  \\\n",
       "a                  18.0       0.0          2.0       7.0       1.0   \n",
       "ability             0.0       0.0          0.0       0.0       0.0   \n",
       "able                0.0       0.0          0.0       1.0       0.0   \n",
       "about               3.0       0.0          0.0       0.0       0.0   \n",
       "accelerometer       0.0       0.0          0.0       0.0       0.0   \n",
       "\n",
       "               d3-abstract  d3-intro  d4-title  d4-abstract  d4-intro  \n",
       "a                      4.0       7.0       0.0          6.0       9.0  \n",
       "ability                0.0       0.0       0.0          0.0       1.0  \n",
       "able                   0.0       0.0       0.0          0.0       0.0  \n",
       "about                  0.0       0.0       0.0          0.0       2.0  \n",
       "accelerometer          0.0       2.0       0.0          0.0       0.0  "
      ]
     },
     "execution_count": 17,
     "metadata": {},
     "output_type": "execute_result"
    }
   ],
   "source": [
    "df = create_zone_index(files)\n",
    "df = df.sort_index()\n",
    "df.head()"
   ]
  },
  {
   "cell_type": "markdown",
   "metadata": {},
   "source": [
    "## Find the document/documents with term ’eye’ in the title and ’performance’ in the abstract and ’methods’ in introduction."
   ]
  },
  {
   "cell_type": "markdown",
   "metadata": {},
   "source": [
    "As one query: "
   ]
  },
  {
   "cell_type": "code",
   "execution_count": 19,
   "metadata": {},
   "outputs": [],
   "source": [
    "def find_documents(zoneIndex, andQueryValues, andQueryZones = ['title','abstract','intro']):\n",
    "    doc_num = len(zoneIndex.columns)//3 # zoneIndex has always 3 zones for each document\n",
    "    result = [] \n",
    "    \n",
    "    for i in range(doc_num):\n",
    "        contains_all = True\n",
    "        j = 0\n",
    "        while contains_all and j < len(andQueryZones):\n",
    "            zone = andQueryZones[j]\n",
    "            column = zoneIndex['d'+str(i)+'-'+zone]\n",
    "            tf = column.loc[andQueryValues[j]]\n",
    "            if tf == 0:\n",
    "                contains_all = False\n",
    "            j += 1\n",
    "                    \n",
    "        if contains_all:\n",
    "            result +=['document'+str(i+1)]\n",
    "       \n",
    "    return result     "
   ]
  },
  {
   "cell_type": "code",
   "execution_count": 20,
   "metadata": {},
   "outputs": [
    {
     "name": "stdout",
     "output_type": "stream",
     "text": [
      "In printed result documents are indexed from 1.\n",
      "Result:  ['document2']\n"
     ]
    }
   ],
   "source": [
    "print('In printed result documents are indexed from 1.')\n",
    "print('Result: ', find_documents(df, ['eye', 'performance', 'method']))"
   ]
  },
  {
   "cell_type": "markdown",
   "metadata": {},
   "source": [
    "As 3 separately queries:"
   ]
  },
  {
   "cell_type": "markdown",
   "metadata": {},
   "source": [
    "## Find the document/documents with term ’eye’ in the title"
   ]
  },
  {
   "cell_type": "code",
   "execution_count": 21,
   "metadata": {},
   "outputs": [],
   "source": [
    "def find_documents(zoneIndex, zone, query):\n",
    "    result = [] \n",
    "    doc_num = len(zoneIndex.columns)//3 # zoneIndex has always 3 zones for each document\n",
    "    \n",
    "    for i in range(doc_num):\n",
    "        column = df['d'+str(i)+'-'+zone]\n",
    "        tf = column.loc[query]\n",
    "        \n",
    "        if tf > 0 :\n",
    "            result += ['document'+str(i+1)]\n",
    "       \n",
    "    return result"
   ]
  },
  {
   "cell_type": "code",
   "execution_count": 22,
   "metadata": {},
   "outputs": [
    {
     "data": {
      "text/plain": [
       "['document1', 'document2', 'document5']"
      ]
     },
     "execution_count": 22,
     "metadata": {},
     "output_type": "execute_result"
    }
   ],
   "source": [
    "find_documents(df, 'title', 'eye')"
   ]
  },
  {
   "cell_type": "markdown",
   "metadata": {},
   "source": [
    "## Find the document/documents with term ’performance’ in the abstract"
   ]
  },
  {
   "cell_type": "code",
   "execution_count": 23,
   "metadata": {},
   "outputs": [
    {
     "data": {
      "text/plain": [
       "['document2', 'document3', 'document4', 'document5']"
      ]
     },
     "execution_count": 23,
     "metadata": {},
     "output_type": "execute_result"
    }
   ],
   "source": [
    "find_documents(df, 'abstract', 'performance')"
   ]
  },
  {
   "cell_type": "markdown",
   "metadata": {},
   "source": [
    "##  Find the document/documents with term ’methods’ in the introduction"
   ]
  },
  {
   "cell_type": "code",
   "execution_count": 24,
   "metadata": {},
   "outputs": [
    {
     "data": {
      "text/plain": [
       "['document2', 'document4']"
      ]
     },
     "execution_count": 24,
     "metadata": {},
     "output_type": "execute_result"
    }
   ],
   "source": [
    "find_documents(df, 'intro', 'methods')"
   ]
  },
  {
   "cell_type": "markdown",
   "metadata": {},
   "source": [
    "#  The weighted zone score"
   ]
  },
  {
   "cell_type": "code",
   "execution_count": 25,
   "metadata": {},
   "outputs": [],
   "source": [
    "def calculate_weighted_zone_score(andQueryValues, docName, weights = [0.45,0.30,0.25]):\n",
    "    \"\"\"\n",
    "    We check whether all terms from andQueryValues are in all zones.\n",
    "    \"\"\"\n",
    "    zones = ['title','abstract','intro']\n",
    "    score = 0\n",
    "    \n",
    "    for i in range(len(zones)):\n",
    "        column = df[docName+'-'+zones[i]]\n",
    "        \n",
    "        # check whether the zones fulfills all conditions\n",
    "        contains_all = True\n",
    "        j = 0\n",
    "        while contains_all and j < len(andQueryValues):\n",
    "            tf = column.loc[andQueryValues[j]]\n",
    "            if tf == 0:\n",
    "                contains_all = False\n",
    "            j += 1\n",
    "       \n",
    "        # after each zone update score\n",
    "        score += weights[i] * contains_all\n",
    "       \n",
    "    return score"
   ]
  },
  {
   "cell_type": "markdown",
   "metadata": {},
   "source": [
    "## The weighted zone score of each document for the boolean query ’eye’ AND ’tracking’"
   ]
  },
  {
   "cell_type": "code",
   "execution_count": 26,
   "metadata": {},
   "outputs": [
    {
     "name": "stdout",
     "output_type": "stream",
     "text": [
      "score for document 1 : 0.0\n",
      "score for document 2 : 0.25\n",
      "score for document 3 : 0.0\n",
      "score for document 4 : 0.25\n",
      "score for document 5 : 1.0\n"
     ]
    }
   ],
   "source": [
    "andQueryValues = ['eye', 'tracking']\n",
    "\n",
    "for i in range(5):\n",
    "    print('score for document',i+1,':', calculate_weighted_zone_score(andQueryValues,'d'+str(i)))"
   ]
  },
  {
   "cell_type": "code",
   "execution_count": null,
   "metadata": {},
   "outputs": [],
   "source": []
  }
 ],
 "metadata": {
  "kernelspec": {
   "display_name": "Python 3",
   "language": "python",
   "name": "python3"
  },
  "language_info": {
   "codemirror_mode": {
    "name": "ipython",
    "version": 3
   },
   "file_extension": ".py",
   "mimetype": "text/x-python",
   "name": "python",
   "nbconvert_exporter": "python",
   "pygments_lexer": "ipython3",
   "version": "3.6.4"
  }
 },
 "nbformat": 4,
 "nbformat_minor": 2
}
