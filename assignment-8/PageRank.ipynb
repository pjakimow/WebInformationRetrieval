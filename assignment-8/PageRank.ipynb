{
 "cells": [
  {
   "cell_type": "markdown",
   "metadata": {
    "colab_type": "text",
    "id": "7X6EPoTy_PfV"
   },
   "source": [
    "# Page Rank"
   ]
  },
  {
   "cell_type": "code",
   "execution_count": 1,
   "metadata": {
    "colab": {},
    "colab_type": "code",
    "id": "9VmHurhQ_Y1w"
   },
   "outputs": [],
   "source": [
    "import numpy as np"
   ]
  },
  {
   "cell_type": "markdown",
   "metadata": {
    "colab_type": "text",
    "id": "QrE00nX09vmZ"
   },
   "source": [
    "## Given: the adjacency matrix"
   ]
  },
  {
   "cell_type": "code",
   "execution_count": 2,
   "metadata": {
    "colab": {
     "base_uri": "https://localhost:8080/",
     "height": 109
    },
    "colab_type": "code",
    "id": "sOS5kIxZ9YvU",
    "outputId": "a9595b64-8b82-4a53-e571-5e0c6f7a6f32"
   },
   "outputs": [
    {
     "data": {
      "text/plain": [
       "array([[1, 0, 1, 0, 1],\n",
       "       [0, 0, 0, 1, 1],\n",
       "       [1, 0, 0, 0, 1],\n",
       "       [0, 0, 0, 1, 1],\n",
       "       [1, 0, 0, 0, 0]])"
      ]
     },
     "execution_count": 2,
     "metadata": {},
     "output_type": "execute_result"
    }
   ],
   "source": [
    "adjacency_matrix = np.asarray([[1, 0, 1, 0, 1],\n",
    "                              [0, 0, 0, 1, 1],\n",
    "                              [1, 0, 0, 0, 1],\n",
    "                              [0, 0, 0, 1, 1],\n",
    "                              [1, 0, 0, 0, 0]], dtype=int)\n",
    "adjacency_matrix"
   ]
  },
  {
   "cell_type": "markdown",
   "metadata": {
    "colab_type": "text",
    "id": "aMc5ct0V97oX"
   },
   "source": [
    "## Calculate in-degree and out-degree for every node"
   ]
  },
  {
   "cell_type": "code",
   "execution_count": 4,
   "metadata": {
    "colab": {},
    "colab_type": "code",
    "id": "2m3nR06s-INn"
   },
   "outputs": [],
   "source": [
    "def deg_Calc(adjMatrix):\n",
    "    \"\"\"\n",
    "    Arguments:\n",
    "        adjMatrix - the adjacency matrix of type numpy.ndarray\n",
    "    Result:\n",
    "       It returns dictionary with nodes n1,... as keys and as values it keeps list of out-degree and in-degree (in this order).  \n",
    "    \"\"\"\n",
    "    if adjMatrix.shape[0] != adjMatrix.shape[1]:\n",
    "        raise Exception('Adjacency matrix should be a square matrix!')\n",
    "        \n",
    "    n = adjMatrix.shape[0]           \n",
    "    result = dict.fromkeys(['n' + str(i+1) for i in range(n)])\n",
    "  \n",
    "    for i in range(n):\n",
    "        result['n' + str(i+1)] = [sum(adjMatrix[i,:]),sum(adjMatrix[:, i])]\n",
    "  \n",
    "    return result"
   ]
  },
  {
   "cell_type": "code",
   "execution_count": 5,
   "metadata": {
    "colab": {
     "base_uri": "https://localhost:8080/",
     "height": 35
    },
    "colab_type": "code",
    "id": "VjaXxc927goy",
    "outputId": "a9b3efbe-7d8a-4d1b-adc9-3bf9bbe6480e"
   },
   "outputs": [
    {
     "data": {
      "text/plain": [
       "{'n1': [3, 3], 'n2': [2, 0], 'n3': [2, 1], 'n4': [2, 2], 'n5': [1, 4]}"
      ]
     },
     "execution_count": 5,
     "metadata": {},
     "output_type": "execute_result"
    }
   ],
   "source": [
    "deg_Calc(adjacency_matrix)"
   ]
  },
  {
   "cell_type": "markdown",
   "metadata": {
    "colab_type": "text",
    "id": "j8aEiq2i-RTs"
   },
   "source": [
    "## Generate a Stochastic Transition Matrix (STM) for a page-rank random walk over the graph from the given adjacency matrix. Consider probability of teleport alpha = 0,1."
   ]
  },
  {
   "cell_type": "code",
   "execution_count": 6,
   "metadata": {
    "colab": {},
    "colab_type": "code",
    "id": "T9a9fN3k-LpP"
   },
   "outputs": [],
   "source": [
    "def stm_Calc(adjMatrix, alpha=0.1):\n",
    "  \n",
    "    if adjMatrix.shape[0] != adjMatrix.shape[1]:\n",
    "        raise Exception('Adjacency matrix should be a square matrix!') \n",
    "  \n",
    "    result = np.ndarray(dtype=float, shape=adjMatrix.shape)\n",
    "    n = adjMatrix.shape[0]\n",
    "  \n",
    "    for i in range(n):\n",
    "        for j in range(n):\n",
    "            out_degree = sum(adjMatrix[i])\n",
    "            if out_degree == 0:\n",
    "                result[i, j] = 1 / n\n",
    "            elif adjMatrix[i, j] == 0:\n",
    "                result[i, j] = alpha / n\n",
    "            else:\n",
    "                result[i, j] = alpha / n + (1 - alpha)/out_degree\n",
    "        \n",
    "    return result"
   ]
  },
  {
   "cell_type": "code",
   "execution_count": 7,
   "metadata": {
    "colab": {
     "base_uri": "https://localhost:8080/",
     "height": 109
    },
    "colab_type": "code",
    "id": "ZhfUjqfW0gGj",
    "outputId": "6e8f5fd4-2406-4a35-f846-682edfc2f1db"
   },
   "outputs": [
    {
     "data": {
      "text/plain": [
       "array([[0.32, 0.02, 0.32, 0.02, 0.32],\n",
       "       [0.02, 0.02, 0.02, 0.47, 0.47],\n",
       "       [0.47, 0.02, 0.02, 0.02, 0.47],\n",
       "       [0.02, 0.02, 0.02, 0.47, 0.47],\n",
       "       [0.92, 0.02, 0.02, 0.02, 0.02]])"
      ]
     },
     "execution_count": 7,
     "metadata": {},
     "output_type": "execute_result"
    }
   ],
   "source": [
    "stm_Calc(adjacency_matrix)"
   ]
  },
  {
   "cell_type": "markdown",
   "metadata": {
    "colab_type": "text",
    "id": "plUUKUmY-1vk"
   },
   "source": [
    "## Compute page rank"
   ]
  },
  {
   "cell_type": "code",
   "execution_count": 8,
   "metadata": {
    "colab": {},
    "colab_type": "code",
    "id": "0UB21Psn-yfk"
   },
   "outputs": [],
   "source": [
    "def rank_Calc(stMatrix, iterNum=5):\n",
    "    \"\"\"\n",
    "    Arguments:\n",
    "        stMatrix - a Stochastic Transition Matrix\n",
    "        iterNum - defines after how many times/iterations can we see the page ranks\n",
    "    Result:\n",
    "        Page rank values.\n",
    "    \"\"\" \n",
    "    n = stMatrix.shape[0]\n",
    "    x = np.array([1/n]*n)\n",
    "\n",
    "    for i in range(iterNum):\n",
    "        x = np.dot(x, stMatrix)\n",
    "\n",
    "    return x"
   ]
  },
  {
   "cell_type": "code",
   "execution_count": 9,
   "metadata": {
    "colab": {
     "base_uri": "https://localhost:8080/",
     "height": 35
    },
    "colab_type": "code",
    "id": "Kg3yk9nk_APu",
    "outputId": "4598e05b-8fa7-48a5-d6bc-eac1b90bbe8f"
   },
   "outputs": [
    {
     "data": {
      "text/plain": [
       "array([0.4827365 , 0.02      , 0.1647845 , 0.05876638, 0.27371263])"
      ]
     },
     "execution_count": 9,
     "metadata": {},
     "output_type": "execute_result"
    }
   ],
   "source": [
    "rank_Calc(stm_Calc(adjacency_matrix))"
   ]
  }
 ],
 "metadata": {
  "colab": {
   "collapsed_sections": [],
   "name": "IR_assignment8.ipynb",
   "provenance": [],
   "version": "0.3.2"
  },
  "kernelspec": {
   "display_name": "Python 3",
   "language": "python",
   "name": "python3"
  },
  "language_info": {
   "codemirror_mode": {
    "name": "ipython",
    "version": 3
   },
   "file_extension": ".py",
   "mimetype": "text/x-python",
   "name": "python",
   "nbconvert_exporter": "python",
   "pygments_lexer": "ipython3",
   "version": "3.6.4"
  }
 },
 "nbformat": 4,
 "nbformat_minor": 1
}
